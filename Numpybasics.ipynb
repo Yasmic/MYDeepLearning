{
  "nbformat": 4,
  "nbformat_minor": 0,
  "metadata": {
    "colab": {
      "name": "Numpybasics.ipynb",
      "provenance": [],
      "collapsed_sections": [],
      "authorship_tag": "ABX9TyMv3NjevE/K1LrOdosfZD1p",
      "include_colab_link": true
    },
    "kernelspec": {
      "name": "python3",
      "display_name": "Python 3"
    }
  },
  "cells": [
    {
      "cell_type": "markdown",
      "metadata": {
        "id": "view-in-github",
        "colab_type": "text"
      },
      "source": [
        "<a href=\"https://colab.research.google.com/github/Yasmic/MYDeepLearning/blob/main/Numpybasics.ipynb\" target=\"_parent\"><img src=\"https://colab.research.google.com/assets/colab-badge.svg\" alt=\"Open In Colab\"/></a>"
      ]
    },
    {
      "cell_type": "markdown",
      "metadata": {
        "id": "FvzSmBWPePrH"
      },
      "source": [
        "#Numpy arrays \r\n",
        "Broad casting possible values can be applied to all the eliments of list\r\n"
      ]
    },
    {
      "cell_type": "code",
      "metadata": {
        "id": "C43xUyPJ_dli"
      },
      "source": [
        "import numpy as np"
      ],
      "execution_count": 1,
      "outputs": []
    },
    {
      "cell_type": "code",
      "metadata": {
        "colab": {
          "base_uri": "https://localhost:8080/"
        },
        "id": "P9Z9SLiR_k2k",
        "outputId": "f62dfc40-4f90-4cb0-8039-cba945d3a9fb"
      },
      "source": [
        "np.array(5)"
      ],
      "execution_count": null,
      "outputs": [
        {
          "output_type": "execute_result",
          "data": {
            "text/plain": [
              "array(5)"
            ]
          },
          "metadata": {
            "tags": []
          },
          "execution_count": 2
        }
      ]
    },
    {
      "cell_type": "code",
      "metadata": {
        "id": "Pgu6h8uMIAru"
      },
      "source": [
        "vp=np.array([5,6,7,8])"
      ],
      "execution_count": null,
      "outputs": []
    },
    {
      "cell_type": "code",
      "metadata": {
        "colab": {
          "base_uri": "https://localhost:8080/"
        },
        "id": "HdZrygXqIIsh",
        "outputId": "6b33b8a2-6965-4a67-cd5c-3eb73d88e966"
      },
      "source": [
        "print(vp)"
      ],
      "execution_count": null,
      "outputs": [
        {
          "output_type": "stream",
          "text": [
            "[5 6 7 8]\n"
          ],
          "name": "stdout"
        }
      ]
    },
    {
      "cell_type": "code",
      "metadata": {
        "colab": {
          "base_uri": "https://localhost:8080/"
        },
        "id": "GFS0qO1eIeM2",
        "outputId": "dd477073-6a00-40eb-bfad-916ae4969503"
      },
      "source": [
        "print(vp+1)"
      ],
      "execution_count": null,
      "outputs": [
        {
          "output_type": "stream",
          "text": [
            "[6 7 8 9]\n"
          ],
          "name": "stdout"
        }
      ]
    },
    {
      "cell_type": "code",
      "metadata": {
        "id": "tLX7-mDnIhVl"
      },
      "source": [
        "vp1=[5,6,7,8]"
      ],
      "execution_count": null,
      "outputs": []
    },
    {
      "cell_type": "code",
      "metadata": {
        "colab": {
          "base_uri": "https://localhost:8080/"
        },
        "id": "O8mUnfG-IlJC",
        "outputId": "ea28c5c4-9360-41e1-acd2-dc122d011640"
      },
      "source": [
        "print(vp1[0])"
      ],
      "execution_count": null,
      "outputs": [
        {
          "output_type": "stream",
          "text": [
            "5\n"
          ],
          "name": "stdout"
        }
      ]
    },
    {
      "cell_type": "code",
      "metadata": {
        "id": "zphAPVLDJc-1"
      },
      "source": [
        "vp2=np.array([[1,2,3],[4,5,6],[7,8,9]])"
      ],
      "execution_count": null,
      "outputs": []
    },
    {
      "cell_type": "code",
      "metadata": {
        "colab": {
          "base_uri": "https://localhost:8080/"
        },
        "id": "l8XZwvTcKPNJ",
        "outputId": "e9977320-3296-4dc6-e581-a9ad08cc9a3f"
      },
      "source": [
        "print(vp2)"
      ],
      "execution_count": null,
      "outputs": [
        {
          "output_type": "stream",
          "text": [
            "[[1 2 3]\n",
            " [4 5 6]\n",
            " [7 8 9]]\n"
          ],
          "name": "stdout"
        }
      ]
    },
    {
      "cell_type": "code",
      "metadata": {
        "colab": {
          "base_uri": "https://localhost:8080/"
        },
        "id": "MMPcnMn6KTrt",
        "outputId": "03f208f3-7f0e-4b51-acf5-9a9162ac1c8f"
      },
      "source": [
        "vp2.shape"
      ],
      "execution_count": null,
      "outputs": [
        {
          "output_type": "execute_result",
          "data": {
            "text/plain": [
              "(3, 3)"
            ]
          },
          "metadata": {
            "tags": []
          },
          "execution_count": 18
        }
      ]
    },
    {
      "cell_type": "markdown",
      "metadata": {
        "id": "mXolQUEZdxKH"
      },
      "source": [
        "#Random matrix or value generation using randint"
      ]
    },
    {
      "cell_type": "code",
      "metadata": {
        "id": "CMDkIp6eKwNW"
      },
      "source": [
        "x = np.random.randint(100,size=(1,6,5))"
      ],
      "execution_count": null,
      "outputs": []
    },
    {
      "cell_type": "code",
      "metadata": {
        "colab": {
          "base_uri": "https://localhost:8080/"
        },
        "id": "zkdYRr_eMedp",
        "outputId": "a2f5d4a9-b24f-49c4-ff9f-2f89c1b282e8"
      },
      "source": [
        "print(x)"
      ],
      "execution_count": null,
      "outputs": [
        {
          "output_type": "stream",
          "text": [
            "[[[50 27 14 41 58]\n",
            "  [65 36 10 86 43]\n",
            "  [11  2 51 80 32]\n",
            "  [54  0 38 19 46]\n",
            "  [42 56 60 77 30]\n",
            "  [24  2  3 94 98]]]\n"
          ],
          "name": "stdout"
        }
      ]
    },
    {
      "cell_type": "markdown",
      "metadata": {
        "id": "VUH4HPPEd6Kh"
      },
      "source": [
        "#Reshaping the matrix\r\n",
        "Using reshape or [None, :]"
      ]
    },
    {
      "cell_type": "code",
      "metadata": {
        "colab": {
          "base_uri": "https://localhost:8080/"
        },
        "id": "y60fT0GrNKsH",
        "outputId": "9aab7b57-44d7-4901-cef8-ee1a772dad6c"
      },
      "source": [
        "x.shape"
      ],
      "execution_count": null,
      "outputs": [
        {
          "output_type": "execute_result",
          "data": {
            "text/plain": [
              "(1, 6, 5)"
            ]
          },
          "metadata": {
            "tags": []
          },
          "execution_count": 35
        }
      ]
    },
    {
      "cell_type": "code",
      "metadata": {
        "id": "8fXGJS3uNeUO"
      },
      "source": [
        "s = np.array(5)"
      ],
      "execution_count": null,
      "outputs": []
    },
    {
      "cell_type": "code",
      "metadata": {
        "colab": {
          "base_uri": "https://localhost:8080/"
        },
        "id": "GwLxsLK_Nf4Q",
        "outputId": "b26bb001-55fa-40e1-a0a8-5df84b12937b"
      },
      "source": [
        "s.shape"
      ],
      "execution_count": null,
      "outputs": [
        {
          "output_type": "execute_result",
          "data": {
            "text/plain": [
              "()"
            ]
          },
          "metadata": {
            "tags": []
          },
          "execution_count": 37
        }
      ]
    },
    {
      "cell_type": "code",
      "metadata": {
        "id": "LbbHVY87OFeE"
      },
      "source": [
        "v = np.array([1,2,3,4])"
      ],
      "execution_count": null,
      "outputs": []
    },
    {
      "cell_type": "code",
      "metadata": {
        "colab": {
          "base_uri": "https://localhost:8080/"
        },
        "id": "2hdkIS7EOHPI",
        "outputId": "fdb763a1-7ac1-43c9-d2c4-58556b3a3e63"
      },
      "source": [
        "v.shape"
      ],
      "execution_count": null,
      "outputs": [
        {
          "output_type": "execute_result",
          "data": {
            "text/plain": [
              "(4,)"
            ]
          },
          "metadata": {
            "tags": []
          },
          "execution_count": 39
        }
      ]
    },
    {
      "cell_type": "code",
      "metadata": {
        "id": "ykXxxiofOMFs"
      },
      "source": [
        "x=v.reshape(1,4)"
      ],
      "execution_count": null,
      "outputs": []
    },
    {
      "cell_type": "code",
      "metadata": {
        "id": "Wrb7X24sOTW7"
      },
      "source": [
        "x=v.reshape(4,1)"
      ],
      "execution_count": null,
      "outputs": []
    },
    {
      "cell_type": "code",
      "metadata": {
        "colab": {
          "base_uri": "https://localhost:8080/"
        },
        "id": "i9KjfxwMPutb",
        "outputId": "f83f0bc3-bb6a-4f17-f4ce-9d50f270c8c8"
      },
      "source": [
        "x"
      ],
      "execution_count": null,
      "outputs": [
        {
          "output_type": "execute_result",
          "data": {
            "text/plain": [
              "array([[1],\n",
              "       [2],\n",
              "       [3],\n",
              "       [4]])"
            ]
          },
          "metadata": {
            "tags": []
          },
          "execution_count": 49
        }
      ]
    },
    {
      "cell_type": "code",
      "metadata": {
        "colab": {
          "base_uri": "https://localhost:8080/"
        },
        "id": "9hNKhUlYPvwO",
        "outputId": "b4552b63-4a19-46cf-caaf-1186aa8224fa"
      },
      "source": [
        "x[1][0]"
      ],
      "execution_count": null,
      "outputs": [
        {
          "output_type": "execute_result",
          "data": {
            "text/plain": [
              "2"
            ]
          },
          "metadata": {
            "tags": []
          },
          "execution_count": 51
        }
      ]
    },
    {
      "cell_type": "code",
      "metadata": {
        "id": "qnNVI2VqQSUO"
      },
      "source": [
        "x = v[None, :]"
      ],
      "execution_count": null,
      "outputs": []
    },
    {
      "cell_type": "code",
      "metadata": {
        "colab": {
          "base_uri": "https://localhost:8080/"
        },
        "id": "REKraHLEQaId",
        "outputId": "7105facc-1173-43db-bd1a-b5df9a76bd1a"
      },
      "source": [
        "x.shape"
      ],
      "execution_count": null,
      "outputs": [
        {
          "output_type": "execute_result",
          "data": {
            "text/plain": [
              "(1, 4)"
            ]
          },
          "metadata": {
            "tags": []
          },
          "execution_count": 54
        }
      ]
    },
    {
      "cell_type": "code",
      "metadata": {
        "id": "k8i1T-zFQlSL"
      },
      "source": [
        "x=v[:,None]"
      ],
      "execution_count": null,
      "outputs": []
    },
    {
      "cell_type": "code",
      "metadata": {
        "colab": {
          "base_uri": "https://localhost:8080/"
        },
        "id": "lRiB4I3RQsj7",
        "outputId": "885ac221-3626-49f3-c73c-3e6fe1f9ee6e"
      },
      "source": [
        "x.shape"
      ],
      "execution_count": null,
      "outputs": [
        {
          "output_type": "execute_result",
          "data": {
            "text/plain": [
              "(4, 1)"
            ]
          },
          "metadata": {
            "tags": []
          },
          "execution_count": 58
        }
      ]
    },
    {
      "cell_type": "markdown",
      "metadata": {
        "id": "k1O7DeYidauK"
      },
      "source": [
        "# Matrix multiplication\r\n",
        "using dot and matmul , when the matrix is 2D the results are same for both dot and matmul, but larger dimensions results will be different\r\n",
        "Column of first matrix should be equal to row of 2nd matrix"
      ]
    },
    {
      "cell_type": "code",
      "metadata": {
        "id": "JfkVujQhVdhe"
      },
      "source": [
        "a = np.array([[1,2,3,4],[5,6,7,8]])"
      ],
      "execution_count": null,
      "outputs": []
    },
    {
      "cell_type": "code",
      "metadata": {
        "colab": {
          "base_uri": "https://localhost:8080/"
        },
        "id": "Ao97eF9cV1hq",
        "outputId": "4425e60a-9a73-4d59-e050-2effa539492c"
      },
      "source": [
        "a.shape"
      ],
      "execution_count": null,
      "outputs": [
        {
          "output_type": "execute_result",
          "data": {
            "text/plain": [
              "(2, 4)"
            ]
          },
          "metadata": {
            "tags": []
          },
          "execution_count": 63
        }
      ]
    },
    {
      "cell_type": "code",
      "metadata": {
        "id": "xzSWwvjLVjRD"
      },
      "source": [
        "b = np.array([[1,2,3],[4,5,6],[7,8,9],[10,11,12]])"
      ],
      "execution_count": null,
      "outputs": []
    },
    {
      "cell_type": "code",
      "metadata": {
        "colab": {
          "base_uri": "https://localhost:8080/"
        },
        "id": "VH0nxXPsV5Iy",
        "outputId": "86d27804-5d77-494f-ad36-e9c83f69996e"
      },
      "source": [
        "b.shape"
      ],
      "execution_count": null,
      "outputs": [
        {
          "output_type": "execute_result",
          "data": {
            "text/plain": [
              "(4, 3)"
            ]
          },
          "metadata": {
            "tags": []
          },
          "execution_count": 64
        }
      ]
    },
    {
      "cell_type": "code",
      "metadata": {
        "id": "FjVQDGNqVl6a"
      },
      "source": [
        "c= np.matmul(a, b)"
      ],
      "execution_count": null,
      "outputs": []
    },
    {
      "cell_type": "code",
      "metadata": {
        "colab": {
          "base_uri": "https://localhost:8080/"
        },
        "id": "oOVsYAYjVruF",
        "outputId": "e1f294ce-d2c7-4922-cd15-0779e2532eff"
      },
      "source": [
        "c"
      ],
      "execution_count": null,
      "outputs": [
        {
          "output_type": "execute_result",
          "data": {
            "text/plain": [
              "array([[ 70,  80,  90],\n",
              "       [158, 184, 210]])"
            ]
          },
          "metadata": {
            "tags": []
          },
          "execution_count": 62
        }
      ]
    },
    {
      "cell_type": "code",
      "metadata": {
        "id": "zug6GfHwVsb3"
      },
      "source": [
        "c=np.dot(a,b)"
      ],
      "execution_count": null,
      "outputs": []
    },
    {
      "cell_type": "code",
      "metadata": {
        "colab": {
          "base_uri": "https://localhost:8080/"
        },
        "id": "UcFEJPUGWIWH",
        "outputId": "4d1b84d7-0529-4cb9-ab3f-1be79095b6ca"
      },
      "source": [
        "c"
      ],
      "execution_count": null,
      "outputs": [
        {
          "output_type": "execute_result",
          "data": {
            "text/plain": [
              "array([[ 70,  80,  90],\n",
              "       [158, 184, 210]])"
            ]
          },
          "metadata": {
            "tags": []
          },
          "execution_count": 66
        }
      ]
    },
    {
      "cell_type": "code",
      "metadata": {
        "id": "fHdHeMkJWI7v"
      },
      "source": [
        "a=np.random.randint(100,size=(1,3,2))"
      ],
      "execution_count": null,
      "outputs": []
    },
    {
      "cell_type": "code",
      "metadata": {
        "colab": {
          "base_uri": "https://localhost:8080/"
        },
        "id": "k14WAuNQX5rz",
        "outputId": "d68efec3-10d3-412c-fb95-7e20cf79b9cf"
      },
      "source": [
        "a.shape"
      ],
      "execution_count": null,
      "outputs": [
        {
          "output_type": "execute_result",
          "data": {
            "text/plain": [
              "(1, 3, 2)"
            ]
          },
          "metadata": {
            "tags": []
          },
          "execution_count": 104
        }
      ]
    },
    {
      "cell_type": "code",
      "metadata": {
        "id": "VsSnk8TlXlzU"
      },
      "source": [
        "b=np.random.randint(100,size=(1,2,3))"
      ],
      "execution_count": null,
      "outputs": []
    },
    {
      "cell_type": "code",
      "metadata": {
        "colab": {
          "base_uri": "https://localhost:8080/"
        },
        "id": "eZMExBDUX_Iu",
        "outputId": "c53b4455-b0a1-4297-e047-1ad406fa3794"
      },
      "source": [
        "b.shape"
      ],
      "execution_count": null,
      "outputs": [
        {
          "output_type": "execute_result",
          "data": {
            "text/plain": [
              "(1, 2, 3)"
            ]
          },
          "metadata": {
            "tags": []
          },
          "execution_count": 106
        }
      ]
    },
    {
      "cell_type": "code",
      "metadata": {
        "id": "xRM6i605Xvxe"
      },
      "source": [
        "c=np.dot(a,b)"
      ],
      "execution_count": null,
      "outputs": []
    },
    {
      "cell_type": "code",
      "metadata": {
        "colab": {
          "base_uri": "https://localhost:8080/"
        },
        "id": "ON08z9B1YJS4",
        "outputId": "29a7ac2b-361e-47d7-9a3f-c079689a2ad1"
      },
      "source": [
        "c"
      ],
      "execution_count": null,
      "outputs": [
        {
          "output_type": "execute_result",
          "data": {
            "text/plain": [
              "array([[[[6693, 2944, 3602]],\n",
              "\n",
              "        [[2594,  736, 1524]],\n",
              "\n",
              "        [[6636, 4439, 3091]]]])"
            ]
          },
          "metadata": {
            "tags": []
          },
          "execution_count": 108
        }
      ]
    },
    {
      "cell_type": "code",
      "metadata": {
        "colab": {
          "base_uri": "https://localhost:8080/"
        },
        "id": "ytfqYO4QYrfh",
        "outputId": "34c3c2b5-4ad2-4558-f585-4f15af0c3898"
      },
      "source": [
        "c.shape"
      ],
      "execution_count": null,
      "outputs": [
        {
          "output_type": "execute_result",
          "data": {
            "text/plain": [
              "(1, 3, 1, 3)"
            ]
          },
          "metadata": {
            "tags": []
          },
          "execution_count": 109
        }
      ]
    },
    {
      "cell_type": "code",
      "metadata": {
        "id": "g_SlEQJ_YNhs"
      },
      "source": [
        "c=np.matmul(a,b)"
      ],
      "execution_count": null,
      "outputs": []
    },
    {
      "cell_type": "code",
      "metadata": {
        "colab": {
          "base_uri": "https://localhost:8080/"
        },
        "id": "ykAJVjIIYgfK",
        "outputId": "479127c8-7a46-428e-d87a-61354788c7f5"
      },
      "source": [
        "c.shape"
      ],
      "execution_count": null,
      "outputs": [
        {
          "output_type": "execute_result",
          "data": {
            "text/plain": [
              "(1, 3, 3)"
            ]
          },
          "metadata": {
            "tags": []
          },
          "execution_count": 111
        }
      ]
    },
    {
      "cell_type": "code",
      "metadata": {
        "colab": {
          "base_uri": "https://localhost:8080/"
        },
        "id": "eU6-pzjSYUVe",
        "outputId": "0e51239e-a211-47c2-829a-591206ab3872"
      },
      "source": [
        "c"
      ],
      "execution_count": null,
      "outputs": [
        {
          "output_type": "execute_result",
          "data": {
            "text/plain": [
              "array([[[3534, 3370, 1802],\n",
              "        [5508, 4855, 2239],\n",
              "        [4911, 3822, 1270]]])"
            ]
          },
          "metadata": {
            "tags": []
          },
          "execution_count": 83
        }
      ]
    },
    {
      "cell_type": "markdown",
      "metadata": {
        "id": "Flq6kvX_c328"
      },
      "source": [
        "# Transpose\r\n",
        "Getting the transpose of a matrix is really easy in NumPy. Simply access its T attribute. There is also a transpose() function which returns the same thing, but you’ll rarely see that used anywhere because typing T is so much easier. :)"
      ]
    },
    {
      "cell_type": "code",
      "metadata": {
        "id": "vfI8tvKScyar"
      },
      "source": [
        "m = np.array([[1,2,3,4], [5,6,7,8], [9,10,11,12]])"
      ],
      "execution_count": null,
      "outputs": []
    },
    {
      "cell_type": "code",
      "metadata": {
        "colab": {
          "base_uri": "https://localhost:8080/"
        },
        "id": "Iv-8x6rpdUBw",
        "outputId": "ccc0215b-b3d2-485f-8fec-7e8d8e8d7933"
      },
      "source": [
        "m"
      ],
      "execution_count": null,
      "outputs": [
        {
          "output_type": "execute_result",
          "data": {
            "text/plain": [
              "array([[ 1,  2,  3,  4],\n",
              "       [ 5,  6,  7,  8],\n",
              "       [ 9, 10, 11, 12]])"
            ]
          },
          "metadata": {
            "tags": []
          },
          "execution_count": 115
        }
      ]
    },
    {
      "cell_type": "code",
      "metadata": {
        "colab": {
          "base_uri": "https://localhost:8080/"
        },
        "id": "wMRWoRMgc1H9",
        "outputId": "25be5490-46fd-4ac8-a581-ae2bc5684db7"
      },
      "source": [
        "m.T"
      ],
      "execution_count": null,
      "outputs": [
        {
          "output_type": "execute_result",
          "data": {
            "text/plain": [
              "array([[ 1,  5,  9],\n",
              "       [ 2,  6, 10],\n",
              "       [ 3,  7, 11],\n",
              "       [ 4,  8, 12]])"
            ]
          },
          "metadata": {
            "tags": []
          },
          "execution_count": 113
        }
      ]
    },
    {
      "cell_type": "code",
      "metadata": {
        "id": "-YBz6SGAgeeL"
      },
      "source": [
        "   input_array=[-1,2,7]\r\n"
      ],
      "execution_count": null,
      "outputs": []
    },
    {
      "cell_type": "code",
      "metadata": {
        "id": "ocMcL3GfgpiK"
      },
      "source": [
        "input_array=np.array(input_array)"
      ],
      "execution_count": null,
      "outputs": []
    },
    {
      "cell_type": "code",
      "metadata": {
        "colab": {
          "base_uri": "https://localhost:8080/"
        },
        "id": "irdRCxbQgwS1",
        "outputId": "f5e6d33b-f0fb-400d-ceed-ae6764467c56"
      },
      "source": [
        "input_array"
      ],
      "execution_count": null,
      "outputs": [
        {
          "output_type": "execute_result",
          "data": {
            "text/plain": [
              "array([-1,  2,  7])"
            ]
          },
          "metadata": {
            "tags": []
          },
          "execution_count": 118
        }
      ]
    },
    {
      "cell_type": "code",
      "metadata": {
        "id": "IpOalmX_gzLR"
      },
      "source": [
        "input_array=input_array[None,:]"
      ],
      "execution_count": null,
      "outputs": []
    },
    {
      "cell_type": "code",
      "metadata": {
        "colab": {
          "base_uri": "https://localhost:8080/"
        },
        "id": "Z9c9D49dhU-Z",
        "outputId": "209e9663-f5cf-4058-ce20-96b63236f715"
      },
      "source": [
        "input_array.shape"
      ],
      "execution_count": null,
      "outputs": [
        {
          "output_type": "execute_result",
          "data": {
            "text/plain": [
              "(1, 3)"
            ]
          },
          "metadata": {
            "tags": []
          },
          "execution_count": 123
        }
      ]
    },
    {
      "cell_type": "code",
      "metadata": {
        "colab": {
          "base_uri": "https://localhost:8080/"
        },
        "id": "xVDoYVpIhYHP",
        "outputId": "83997f78-f1ab-4ba7-ef84-4c6a6265981b"
      },
      "source": [
        "input_array"
      ],
      "execution_count": null,
      "outputs": [
        {
          "output_type": "execute_result",
          "data": {
            "text/plain": [
              "array([[-1,  2,  7]])"
            ]
          },
          "metadata": {
            "tags": []
          },
          "execution_count": 124
        }
      ]
    },
    {
      "cell_type": "code",
      "metadata": {
        "colab": {
          "base_uri": "https://localhost:8080/"
        },
        "id": "JAyS2sX_iAvl",
        "outputId": "70e0829d-b936-4b59-e20b-82682d7f5092"
      },
      "source": [
        "input_array.min()"
      ],
      "execution_count": null,
      "outputs": [
        {
          "output_type": "execute_result",
          "data": {
            "text/plain": [
              "-1"
            ]
          },
          "metadata": {
            "tags": []
          },
          "execution_count": 126
        }
      ]
    },
    {
      "cell_type": "code",
      "metadata": {
        "id": "wUE1Oc7ciec5"
      },
      "source": [
        "inputs_minus_min=input_array-input_array.min()"
      ],
      "execution_count": null,
      "outputs": []
    },
    {
      "cell_type": "code",
      "metadata": {
        "colab": {
          "base_uri": "https://localhost:8080/"
        },
        "id": "m0TmfEpIif9v",
        "outputId": "d9ab45ef-6e5e-460c-dbbd-6cbeae714c97"
      },
      "source": [
        "inputs_minus_min"
      ],
      "execution_count": null,
      "outputs": [
        {
          "output_type": "execute_result",
          "data": {
            "text/plain": [
              "array([[0, 3, 8]])"
            ]
          },
          "metadata": {
            "tags": []
          },
          "execution_count": 128
        }
      ]
    },
    {
      "cell_type": "code",
      "metadata": {
        "colab": {
          "base_uri": "https://localhost:8080/"
        },
        "id": "x-H_aocgizq5",
        "outputId": "87a97646-b54d-400d-b6e8-e7441c764258"
      },
      "source": [
        "inputs_minus_min.max()"
      ],
      "execution_count": null,
      "outputs": [
        {
          "output_type": "execute_result",
          "data": {
            "text/plain": [
              "8"
            ]
          },
          "metadata": {
            "tags": []
          },
          "execution_count": 129
        }
      ]
    },
    {
      "cell_type": "code",
      "metadata": {
        "id": "EV-SUBD_i3ET"
      },
      "source": [
        "inputs_div_max=inputs_minus_min/inputs_minus_min.max()"
      ],
      "execution_count": null,
      "outputs": []
    },
    {
      "cell_type": "code",
      "metadata": {
        "colab": {
          "base_uri": "https://localhost:8080/"
        },
        "id": "umEzhg3djGkt",
        "outputId": "c224b93a-8b83-4c0a-f81c-2fa8902f4403"
      },
      "source": [
        "inputs_div_max"
      ],
      "execution_count": null,
      "outputs": [
        {
          "output_type": "execute_result",
          "data": {
            "text/plain": [
              "array([[0.   , 0.375, 1.   ]])"
            ]
          },
          "metadata": {
            "tags": []
          },
          "execution_count": 131
        }
      ]
    },
    {
      "cell_type": "markdown",
      "metadata": {
        "id": "MV_3ghLxmfC5"
      },
      "source": [
        "#find average in numpy"
      ]
    },
    {
      "cell_type": "code",
      "metadata": {
        "id": "kGSKmyVZlq8B"
      },
      "source": [
        "values=[1,3,4]"
      ],
      "execution_count": null,
      "outputs": []
    },
    {
      "cell_type": "code",
      "metadata": {
        "id": "QPommZ8_lv2C"
      },
      "source": [
        "values=np.array(values)"
      ],
      "execution_count": null,
      "outputs": []
    },
    {
      "cell_type": "code",
      "metadata": {
        "colab": {
          "base_uri": "https://localhost:8080/"
        },
        "id": "_lnc0ISzly3r",
        "outputId": "6b5fc861-bd5b-4721-ca5f-84b618f8d508"
      },
      "source": [
        "values.mean()"
      ],
      "execution_count": null,
      "outputs": [
        {
          "output_type": "execute_result",
          "data": {
            "text/plain": [
              "2.6666666666666665"
            ]
          },
          "metadata": {
            "tags": []
          },
          "execution_count": 135
        }
      ]
    },
    {
      "cell_type": "code",
      "metadata": {
        "colab": {
          "base_uri": "https://localhost:8080/"
        },
        "id": "lq33XIYCmVin",
        "outputId": "80520eb6-00d1-4d44-afbb-aadb0f81beff"
      },
      "source": [
        "(1+3+4)/3"
      ],
      "execution_count": null,
      "outputs": [
        {
          "output_type": "execute_result",
          "data": {
            "text/plain": [
              "2.6666666666666665"
            ]
          },
          "metadata": {
            "tags": []
          },
          "execution_count": 138
        }
      ]
    },
    {
      "cell_type": "markdown",
      "metadata": {
        "id": "emJuOqgyPQ6y"
      },
      "source": [
        "#Zip function"
      ]
    },
    {
      "cell_type": "code",
      "metadata": {
        "colab": {
          "base_uri": "https://localhost:8080/"
        },
        "id": "auCI99K8NEYd",
        "outputId": "13a77403-2362-442f-8c4f-c3c89e1eb44e"
      },
      "source": [
        "number_list = [1, 2, 3]\r\n",
        "str_list = ['one', 'twenty', 'three']\r\n",
        "\r\n",
        "# No iterables are passed\r\n",
        "result = zip()\r\n",
        "\r\n",
        "# Converting iterator to list\r\n",
        "result_list = list(result)\r\n",
        "#print(result_list)\r\n",
        "\r\n",
        "# Two iterables are passed\r\n",
        "result = zip(number_list, str_list)\r\n",
        "\r\n",
        "for resultty in zip(number_list,str_list):\r\n",
        "  print(resultty)\r\n",
        "# Converting iterator to set or list\r\n",
        "result_set = list(result)\r\n",
        "print(result_set)"
      ],
      "execution_count": null,
      "outputs": [
        {
          "output_type": "stream",
          "text": [
            "(1, 'one')\n",
            "(2, 'twenty')\n",
            "(3, 'three')\n",
            "[(1, 'one'), (2, 'twenty'), (3, 'three')]\n"
          ],
          "name": "stdout"
        }
      ]
    },
    {
      "cell_type": "code",
      "metadata": {
        "id": "B1NTxOmTAYVF"
      },
      "source": [
        "x=np.random.randint(100,size=(3,2))"
      ],
      "execution_count": null,
      "outputs": []
    },
    {
      "cell_type": "code",
      "metadata": {
        "colab": {
          "base_uri": "https://localhost:8080/"
        },
        "id": "huZu39RoA5VI",
        "outputId": "ffa00415-a3b2-4a1e-ccad-afd1ebb36745"
      },
      "source": [
        "x"
      ],
      "execution_count": null,
      "outputs": [
        {
          "output_type": "execute_result",
          "data": {
            "text/plain": [
              "array([[26, 91],\n",
              "       [65, 60],\n",
              "       [37, 69]])"
            ]
          },
          "metadata": {
            "tags": []
          },
          "execution_count": 9
        }
      ]
    },
    {
      "cell_type": "code",
      "metadata": {
        "colab": {
          "base_uri": "https://localhost:8080/"
        },
        "id": "ExVLtU7pBCoy",
        "outputId": "35921309-1275-494f-95ad-a3deb8e04611"
      },
      "source": [
        "x[0,1]"
      ],
      "execution_count": null,
      "outputs": [
        {
          "output_type": "execute_result",
          "data": {
            "text/plain": [
              "91"
            ]
          },
          "metadata": {
            "tags": []
          },
          "execution_count": 14
        }
      ]
    },
    {
      "cell_type": "code",
      "metadata": {
        "colab": {
          "base_uri": "https://localhost:8080/"
        },
        "id": "Hl5XPqfwBMW3",
        "outputId": "ce220325-2953-4b2b-a41d-4d0c19f34e98"
      },
      "source": [
        "x[1]"
      ],
      "execution_count": null,
      "outputs": [
        {
          "output_type": "execute_result",
          "data": {
            "text/plain": [
              "array([65, 60])"
            ]
          },
          "metadata": {
            "tags": []
          },
          "execution_count": 11
        }
      ]
    },
    {
      "cell_type": "code",
      "metadata": {
        "id": "BAZUbRBOGMPi"
      },
      "source": [
        "x1=0.4\r\n",
        "x2=0.6\r\n",
        "x=3*x1+5*x2 - 2.2\r\n",
        "x=1/(1+np.exp(-x))"
      ],
      "execution_count": null,
      "outputs": []
    },
    {
      "cell_type": "code",
      "metadata": {
        "id": "K6dbh-CgH5KA",
        "colab": {
          "base_uri": "https://localhost:8080/"
        },
        "outputId": "70efb048-cad2-4aad-c71b-dfb47e4dd54c"
      },
      "source": [
        "x"
      ],
      "execution_count": null,
      "outputs": [
        {
          "output_type": "execute_result",
          "data": {
            "text/plain": [
              "0.8807970779778823"
            ]
          },
          "metadata": {
            "tags": []
          },
          "execution_count": 116
        }
      ]
    },
    {
      "cell_type": "code",
      "metadata": {
        "id": "Cm8163CGObVb"
      },
      "source": [
        "import numpy as np\r\n",
        "\r\n",
        "# Write a function that takes as input a list of numbers, and returns\r\n",
        "# the list of values given by the softmax function.\r\n",
        "def softmax(L):\r\n",
        "    sum=np.exp(L)\r\n",
        "    P=[]\r\n",
        "    for i in range(len(L)):\r\n",
        "        P.append(np.exp(L[i])/np.sum(sum))\r\n",
        "    return P\r\n",
        "\r\n",
        "\r\n",
        "\r\n",
        "    #otherway\r\n",
        "    import numpy as np\r\n",
        "\r\n",
        "# Write a function that takes as input a list of numbers, and returns\r\n",
        "# the list of values given by the softmax function.\r\n",
        "def softmax(L):\r\n",
        "    sum=np.exp(L)\r\n",
        "    return (np.exp(L)/np.sum(sum))"
      ],
      "execution_count": null,
      "outputs": []
    },
    {
      "cell_type": "markdown",
      "metadata": {
        "id": "r5Ijjj3qXk_x"
      },
      "source": [
        "#Cross Entropy"
      ]
    },
    {
      "cell_type": "code",
      "metadata": {
        "id": "b5IAJv7DXkuR"
      },
      "source": [
        "import numpy as np\r\n",
        "\r\n",
        "# Write a function that takes as input two lists Y, P,\r\n",
        "# and returns the float corresponding to their cross-entropy.\r\n",
        "def cross_entropy(Y, P):\r\n",
        "   Y=np.array(Y)\r\n",
        "   P=np.array(P)\r\n",
        "   CrossEntropy=-np.sum(Y*np.log(P)+(1-Y)*np.log(1-P))\r\n",
        "   return CrossEntropy"
      ],
      "execution_count": null,
      "outputs": []
    },
    {
      "cell_type": "code",
      "metadata": {
        "id": "udYrrc4BpYSv"
      },
      "source": [
        "y=1\r\n",
        "output=0.6\r\n",
        "output1=-y*np.log(output)-(1-y)*np.log(1-output)"
      ],
      "execution_count": null,
      "outputs": []
    },
    {
      "cell_type": "code",
      "metadata": {
        "colab": {
          "base_uri": "https://localhost:8080/"
        },
        "id": "lPZwFkGmpqDn",
        "outputId": "241d9eb2-a45d-4fe5-a62a-81fb0fea1b36"
      },
      "source": [
        "output1"
      ],
      "execution_count": null,
      "outputs": [
        {
          "output_type": "execute_result",
          "data": {
            "text/plain": [
              "0.5108256237659907"
            ]
          },
          "metadata": {
            "tags": []
          },
          "execution_count": 4
        }
      ]
    },
    {
      "cell_type": "markdown",
      "metadata": {
        "id": "E740H_MS2NIo"
      },
      "source": [
        "#generate random numpy array with shape (5*5)\r\n",
        "1-Add 5 to each eliment\r\n",
        "\r\n",
        "\r\n",
        "2-multiply 5 to first row\r\n",
        "\r\n",
        "\r\n",
        "3-Add 5 to first column\r\n",
        "\r\n",
        "\r\n",
        "4-matrix multiply generated array with new generated array of shape (5*3)\r\n",
        "\r\n"
      ]
    },
    {
      "cell_type": "code",
      "metadata": {
        "id": "3XMMGQRG20Ur"
      },
      "source": [
        "numArray=np.random.randint(10,size=(5,5))"
      ],
      "execution_count": null,
      "outputs": []
    },
    {
      "cell_type": "code",
      "metadata": {
        "colab": {
          "base_uri": "https://localhost:8080/"
        },
        "id": "fbGvOQLR3AAj",
        "outputId": "eae8012b-d7a4-4242-9807-bda9d1f15e39"
      },
      "source": [
        "numArray"
      ],
      "execution_count": null,
      "outputs": [
        {
          "output_type": "execute_result",
          "data": {
            "text/plain": [
              "array([[7, 5, 1, 2, 3],\n",
              "       [5, 8, 3, 1, 0],\n",
              "       [9, 8, 2, 2, 4],\n",
              "       [8, 1, 1, 5, 1],\n",
              "       [8, 7, 5, 0, 4]])"
            ]
          },
          "metadata": {
            "tags": []
          },
          "execution_count": 55
        }
      ]
    },
    {
      "cell_type": "code",
      "metadata": {
        "colab": {
          "base_uri": "https://localhost:8080/"
        },
        "id": "U6fqu4RO3Ngq",
        "outputId": "98c9e0e9-66d5-4fa1-9c97-e994fe1ff5d0"
      },
      "source": [
        "numArray[0]*5"
      ],
      "execution_count": null,
      "outputs": [
        {
          "output_type": "execute_result",
          "data": {
            "text/plain": [
              "array([ 5, 40, 10, 30, 35])"
            ]
          },
          "metadata": {
            "tags": []
          },
          "execution_count": 49
        }
      ]
    },
    {
      "cell_type": "code",
      "metadata": {
        "id": "CO7p6YFL3YaU"
      },
      "source": [
        "numArray[0]=numArray[0]*5"
      ],
      "execution_count": null,
      "outputs": []
    },
    {
      "cell_type": "code",
      "metadata": {
        "colab": {
          "base_uri": "https://localhost:8080/"
        },
        "id": "xYr96ghH5eKG",
        "outputId": "12747b3d-53d4-4a90-f7bc-71d39e5a0970"
      },
      "source": [
        "numArray"
      ],
      "execution_count": null,
      "outputs": [
        {
          "output_type": "execute_result",
          "data": {
            "text/plain": [
              "array([[45, 10,  0, 15,  0],\n",
              "       [ 3,  3,  1,  7,  2],\n",
              "       [ 2,  1,  3,  9,  6],\n",
              "       [ 3,  0,  7,  6,  6],\n",
              "       [ 0,  7,  6,  5,  8]])"
            ]
          },
          "metadata": {
            "tags": []
          },
          "execution_count": 30
        }
      ]
    },
    {
      "cell_type": "code",
      "metadata": {
        "id": "jPrQZmii5lrn"
      },
      "source": [
        "x,y=numArray.shape\r\n",
        "for i in range (y):\r\n",
        "  numArray[i][0]=numArray[i][0]*5\r\n",
        "\r\n"
      ],
      "execution_count": null,
      "outputs": []
    },
    {
      "cell_type": "code",
      "metadata": {
        "colab": {
          "base_uri": "https://localhost:8080/"
        },
        "id": "MExNsa1w5xhk",
        "outputId": "35450677-b133-4050-d0fb-ffe4d495f265"
      },
      "source": [
        "numArray"
      ],
      "execution_count": null,
      "outputs": [
        {
          "output_type": "execute_result",
          "data": {
            "text/plain": [
              "array([[35,  5,  1,  2,  3],\n",
              "       [25,  8,  3,  1,  0],\n",
              "       [45,  8,  2,  2,  4],\n",
              "       [40,  1,  1,  5,  1],\n",
              "       [40,  7,  5,  0,  4]])"
            ]
          },
          "metadata": {
            "tags": []
          },
          "execution_count": 57
        }
      ]
    },
    {
      "cell_type": "code",
      "metadata": {
        "colab": {
          "base_uri": "https://localhost:8080/"
        },
        "id": "qKxDNfrz7g8O",
        "outputId": "40abb418-9b3f-4ae5-a191-ee6433b36368"
      },
      "source": [
        "print(numArray[0])"
      ],
      "execution_count": null,
      "outputs": [
        {
          "output_type": "stream",
          "text": [
            "[35  5  1  2  3]\n"
          ],
          "name": "stdout"
        }
      ]
    },
    {
      "cell_type": "code",
      "metadata": {
        "colab": {
          "base_uri": "https://localhost:8080/"
        },
        "id": "Ezn5bVWh7vNA",
        "outputId": "0fe42009-5c5b-4e9d-abe4-d95491fd437b"
      },
      "source": [
        "numArray[0,0]"
      ],
      "execution_count": null,
      "outputs": [
        {
          "output_type": "execute_result",
          "data": {
            "text/plain": [
              "35"
            ]
          },
          "metadata": {
            "tags": []
          },
          "execution_count": 60
        }
      ]
    },
    {
      "cell_type": "code",
      "metadata": {
        "colab": {
          "base_uri": "https://localhost:8080/"
        },
        "id": "2pxLPKKm73mv",
        "outputId": "9091f741-dc6a-4b96-be64-ef80e6eb41bb"
      },
      "source": [
        "numArray[:,:]"
      ],
      "execution_count": null,
      "outputs": [
        {
          "output_type": "execute_result",
          "data": {
            "text/plain": [
              "array([[35,  5,  1,  2,  3],\n",
              "       [25,  8,  3,  1,  0],\n",
              "       [45,  8,  2,  2,  4],\n",
              "       [40,  1,  1,  5,  1],\n",
              "       [40,  7,  5,  0,  4]])"
            ]
          },
          "metadata": {
            "tags": []
          },
          "execution_count": 61
        }
      ]
    },
    {
      "cell_type": "code",
      "metadata": {
        "colab": {
          "base_uri": "https://localhost:8080/"
        },
        "id": "7eq9z1px8C9x",
        "outputId": "0e5c5961-b1fa-4412-eb1f-c6a76e371e96"
      },
      "source": [
        "numArray[0:3,0:3]"
      ],
      "execution_count": null,
      "outputs": [
        {
          "output_type": "execute_result",
          "data": {
            "text/plain": [
              "array([[35,  5,  1],\n",
              "       [25,  8,  3],\n",
              "       [45,  8,  2]])"
            ]
          },
          "metadata": {
            "tags": []
          },
          "execution_count": 62
        }
      ]
    },
    {
      "cell_type": "code",
      "metadata": {
        "colab": {
          "base_uri": "https://localhost:8080/"
        },
        "id": "SnU2_Q2R8YJI",
        "outputId": "8d85fcfb-83da-4b7d-f37b-a4f03db2c66e"
      },
      "source": [
        "numArray[:,0:1]"
      ],
      "execution_count": null,
      "outputs": [
        {
          "output_type": "execute_result",
          "data": {
            "text/plain": [
              "array([[35],\n",
              "       [25],\n",
              "       [45],\n",
              "       [40],\n",
              "       [40]])"
            ]
          },
          "metadata": {
            "tags": []
          },
          "execution_count": 63
        }
      ]
    },
    {
      "cell_type": "code",
      "metadata": {
        "colab": {
          "base_uri": "https://localhost:8080/"
        },
        "id": "ymrJJpMH8jYQ",
        "outputId": "f3081b92-2afb-4a9c-e2a8-dc5a4f3d28a6"
      },
      "source": [
        "numArray[-1:,:]"
      ],
      "execution_count": null,
      "outputs": [
        {
          "output_type": "execute_result",
          "data": {
            "text/plain": [
              "array([[40,  7,  5,  0,  4]])"
            ]
          },
          "metadata": {
            "tags": []
          },
          "execution_count": 67
        }
      ]
    },
    {
      "cell_type": "markdown",
      "metadata": {
        "id": "6wPI5Xpo9Whu"
      },
      "source": [
        "![image.png](data:image/png;base64,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)\r\n",
        "\r\n",
        "\r\n",
        "\r\n",
        "#find standard deviation"
      ]
    },
    {
      "cell_type": "code",
      "metadata": {
        "id": "fmV_GgX99efC"
      },
      "source": [
        "array=np.random.randint(10,size=(1,5,5))"
      ],
      "execution_count": null,
      "outputs": []
    },
    {
      "cell_type": "code",
      "metadata": {
        "colab": {
          "base_uri": "https://localhost:8080/"
        },
        "id": "K3g0IdSW90ZT",
        "outputId": "1c12c685-b782-4717-b6e3-ca7d1a10f3de"
      },
      "source": [
        "array"
      ],
      "execution_count": null,
      "outputs": [
        {
          "output_type": "execute_result",
          "data": {
            "text/plain": [
              "array([[[1, 9, 1, 2, 7],\n",
              "        [5, 1, 6, 7, 4],\n",
              "        [2, 3, 5, 7, 8],\n",
              "        [8, 2, 5, 1, 6],\n",
              "        [1, 2, 8, 0, 1]]])"
            ]
          },
          "metadata": {
            "tags": []
          },
          "execution_count": 97
        }
      ]
    },
    {
      "cell_type": "code",
      "metadata": {
        "id": "FnfGTwqe92K4"
      },
      "source": [
        "sum=array.sum()"
      ],
      "execution_count": null,
      "outputs": []
    },
    {
      "cell_type": "code",
      "metadata": {
        "colab": {
          "base_uri": "https://localhost:8080/"
        },
        "id": "aEQpkKjQ-OT3",
        "outputId": "b27bfb68-48ea-469d-d202-ebd4badee6bb"
      },
      "source": [
        "sum"
      ],
      "execution_count": null,
      "outputs": [
        {
          "output_type": "execute_result",
          "data": {
            "text/plain": [
              "102"
            ]
          },
          "metadata": {
            "tags": []
          },
          "execution_count": 100
        }
      ]
    },
    {
      "cell_type": "code",
      "metadata": {
        "id": "LWmpphKO-QD7"
      },
      "source": [
        "total=array.size"
      ],
      "execution_count": null,
      "outputs": []
    },
    {
      "cell_type": "code",
      "metadata": {
        "id": "F8GYwJJm_Orp"
      },
      "source": [
        ""
      ],
      "execution_count": null,
      "outputs": []
    },
    {
      "cell_type": "code",
      "metadata": {
        "colab": {
          "base_uri": "https://localhost:8080/"
        },
        "id": "yWet6B_v_QZ4",
        "outputId": "868ed272-19c1-4db5-c92b-9f7e21fa50c1"
      },
      "source": [
        "total\r\n"
      ],
      "execution_count": null,
      "outputs": [
        {
          "output_type": "execute_result",
          "data": {
            "text/plain": [
              "25"
            ]
          },
          "metadata": {
            "tags": []
          },
          "execution_count": 102
        }
      ]
    },
    {
      "cell_type": "code",
      "metadata": {
        "id": "cj-PYdWi_RV6"
      },
      "source": [
        "mean=sum/total"
      ],
      "execution_count": null,
      "outputs": []
    },
    {
      "cell_type": "code",
      "metadata": {
        "colab": {
          "base_uri": "https://localhost:8080/"
        },
        "id": "GkSWqErC_XvK",
        "outputId": "1380c2e9-915e-48a1-d628-0f743443aa68"
      },
      "source": [
        "mean"
      ],
      "execution_count": null,
      "outputs": [
        {
          "output_type": "execute_result",
          "data": {
            "text/plain": [
              "4.08"
            ]
          },
          "metadata": {
            "tags": []
          },
          "execution_count": 104
        }
      ]
    },
    {
      "cell_type": "code",
      "metadata": {
        "id": "l5QeiwlL_eXB"
      },
      "source": [
        "array=array-mean"
      ],
      "execution_count": null,
      "outputs": []
    },
    {
      "cell_type": "code",
      "metadata": {
        "colab": {
          "base_uri": "https://localhost:8080/"
        },
        "id": "6QCDjLxe_k-T",
        "outputId": "cf935ecb-bec4-45f8-de98-d7dc1d4eab0b"
      },
      "source": [
        "array"
      ],
      "execution_count": null,
      "outputs": [
        {
          "output_type": "execute_result",
          "data": {
            "text/plain": [
              "array([[[-3.08,  4.92, -3.08, -2.08,  2.92],\n",
              "        [ 0.92, -3.08,  1.92,  2.92, -0.08],\n",
              "        [-2.08, -1.08,  0.92,  2.92,  3.92],\n",
              "        [ 3.92, -2.08,  0.92, -3.08,  1.92],\n",
              "        [-3.08, -2.08,  3.92, -4.08, -3.08]]])"
            ]
          },
          "metadata": {
            "tags": []
          },
          "execution_count": 106
        }
      ]
    },
    {
      "cell_type": "code",
      "metadata": {
        "id": "guDD3S6D_mdx"
      },
      "source": [
        "array=np.square(array)"
      ],
      "execution_count": null,
      "outputs": []
    },
    {
      "cell_type": "code",
      "metadata": {
        "colab": {
          "base_uri": "https://localhost:8080/"
        },
        "id": "xPBdvfR2BPFS",
        "outputId": "670de5e3-904b-4e5d-dd83-9696fe2dd521"
      },
      "source": [
        "array"
      ],
      "execution_count": null,
      "outputs": [
        {
          "output_type": "execute_result",
          "data": {
            "text/plain": [
              "array([[[9.48640e+00, 2.42064e+01, 9.48640e+00, 4.32640e+00,\n",
              "         8.52640e+00],\n",
              "        [8.46400e-01, 9.48640e+00, 3.68640e+00, 8.52640e+00,\n",
              "         6.40000e-03],\n",
              "        [4.32640e+00, 1.16640e+00, 8.46400e-01, 8.52640e+00,\n",
              "         1.53664e+01],\n",
              "        [1.53664e+01, 4.32640e+00, 8.46400e-01, 9.48640e+00,\n",
              "         3.68640e+00],\n",
              "        [9.48640e+00, 4.32640e+00, 1.53664e+01, 1.66464e+01,\n",
              "         9.48640e+00]]])"
            ]
          },
          "metadata": {
            "tags": []
          },
          "execution_count": 108
        }
      ]
    },
    {
      "cell_type": "code",
      "metadata": {
        "id": "-q0hvrhDBUl2"
      },
      "source": [
        "summation=array.sum()"
      ],
      "execution_count": null,
      "outputs": []
    },
    {
      "cell_type": "code",
      "metadata": {
        "id": "T2yJ0mtbBf5F"
      },
      "source": [
        "\r\n",
        "StdDeviation=summation/total"
      ],
      "execution_count": null,
      "outputs": []
    },
    {
      "cell_type": "code",
      "metadata": {
        "id": "BTkofbLNBuKh"
      },
      "source": [
        "StdDeviation=np.sqrt(StdDeviation)"
      ],
      "execution_count": null,
      "outputs": []
    },
    {
      "cell_type": "code",
      "metadata": {
        "colab": {
          "base_uri": "https://localhost:8080/"
        },
        "id": "BsChZEwoB-2o",
        "outputId": "733d51c5-4344-49c3-afb9-39a0bb190fcc"
      },
      "source": [
        "StdDeviation"
      ],
      "execution_count": null,
      "outputs": [
        {
          "output_type": "execute_result",
          "data": {
            "text/plain": [
              "2.8131121556027585"
            ]
          },
          "metadata": {
            "tags": []
          },
          "execution_count": 112
        }
      ]
    },
    {
      "cell_type": "code",
      "metadata": {
        "colab": {
          "base_uri": "https://localhost:8080/"
        },
        "id": "izKrQLaKCC0b",
        "outputId": "fbcc3f9d-981a-4a8f-bbe1-bfea2d9324c1"
      },
      "source": [
        "array.std()"
      ],
      "execution_count": null,
      "outputs": [
        {
          "output_type": "execute_result",
          "data": {
            "text/plain": [
              "2.8131121556027585"
            ]
          },
          "metadata": {
            "tags": []
          },
          "execution_count": 98
        }
      ]
    },
    {
      "cell_type": "markdown",
      "metadata": {
        "id": "QwYH6Nmn-Ggg"
      },
      "source": [
        "#find the output of neural network"
      ]
    },
    {
      "cell_type": "code",
      "metadata": {
        "id": "heP7Bzw2-mr4"
      },
      "source": [
        ""
      ],
      "execution_count": null,
      "outputs": []
    },
    {
      "cell_type": "code",
      "metadata": {
        "id": "iv_fZpag-GAe"
      },
      "source": [
        "x = np.array([1, 2, 3, 4])\r\n",
        "w = np.array([0.5, -0.5, 0.3, 0.1])\r\n",
        "h=np.dot(x,w)\r\n",
        "sigmoid=1/(1+np.exp(-h))"
      ],
      "execution_count": 7,
      "outputs": []
    },
    {
      "cell_type": "code",
      "metadata": {
        "colab": {
          "base_uri": "https://localhost:8080/"
        },
        "id": "9IL-rueZ-6Oi",
        "outputId": "b3a2c53c-3808-4598-a23b-dabffa7bd522"
      },
      "source": [
        "h"
      ],
      "execution_count": 8,
      "outputs": [
        {
          "output_type": "execute_result",
          "data": {
            "text/plain": [
              "0.7999999999999999"
            ]
          },
          "metadata": {
            "tags": []
          },
          "execution_count": 8
        }
      ]
    },
    {
      "cell_type": "code",
      "metadata": {
        "colab": {
          "base_uri": "https://localhost:8080/"
        },
        "id": "yAMOlfTZ-1YR",
        "outputId": "69578b88-44aa-4892-c109-95a9c3af28f0"
      },
      "source": [
        "h"
      ],
      "execution_count": 6,
      "outputs": [
        {
          "output_type": "execute_result",
          "data": {
            "text/plain": [
              "0.7999999999999999"
            ]
          },
          "metadata": {
            "tags": []
          },
          "execution_count": 6
        }
      ]
    },
    {
      "cell_type": "code",
      "metadata": {
        "colab": {
          "base_uri": "https://localhost:8080/"
        },
        "id": "4QSn9Vrr-zBp",
        "outputId": "7ce20b7b-9dde-45bc-8f8d-a932131d8232"
      },
      "source": [
        "sigmoid"
      ],
      "execution_count": 5,
      "outputs": [
        {
          "output_type": "execute_result",
          "data": {
            "text/plain": [
              "0.6899744811276125"
            ]
          },
          "metadata": {
            "tags": []
          },
          "execution_count": 5
        }
      ]
    },
    {
      "cell_type": "markdown",
      "metadata": {
        "id": "B5yc3z3nG35g"
      },
      "source": [
        "#Weight initialisation scale = $\\frac{1}{\\sqrt{n}}$\r\n",
        "where n=number of features"
      ]
    },
    {
      "cell_type": "code",
      "metadata": {
        "colab": {
          "base_uri": "https://localhost:8080/"
        },
        "id": "naakB2aIA8BL",
        "outputId": "42ca1b38-a3b4-4e77-8efc-b1442664ea41"
      },
      "source": [
        "n_features=1\r\n",
        "weights = np.random.normal(scale=1/n_features**.5, size=n_features)\r\n",
        "weights\r\n"
      ],
      "execution_count": 18,
      "outputs": [
        {
          "output_type": "execute_result",
          "data": {
            "text/plain": [
              "array([-1.00793535])"
            ]
          },
          "metadata": {
            "tags": []
          },
          "execution_count": 18
        }
      ]
    }
  ]
}