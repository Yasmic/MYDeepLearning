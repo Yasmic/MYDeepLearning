{
  "nbformat": 4,
  "nbformat_minor": 0,
  "metadata": {
    "colab": {
      "name": "Numpybasics.ipynb",
      "provenance": [],
      "collapsed_sections": [],
      "authorship_tag": "ABX9TyPhzH4exTyqM6eNwk4iZReU",
      "include_colab_link": true
    },
    "kernelspec": {
      "name": "python3",
      "display_name": "Python 3"
    }
  },
  "cells": [
    {
      "cell_type": "markdown",
      "metadata": {
        "id": "view-in-github",
        "colab_type": "text"
      },
      "source": [
        "<a href=\"https://colab.research.google.com/github/Yasmic/MYDeepLearning/blob/main/Numpybasics.ipynb\" target=\"_parent\"><img src=\"https://colab.research.google.com/assets/colab-badge.svg\" alt=\"Open In Colab\"/></a>"
      ]
    },
    {
      "cell_type": "markdown",
      "metadata": {
        "id": "FvzSmBWPePrH"
      },
      "source": [
        "#Numpy arrays \r\n",
        "Broad casting possible values can be applied to all the eliments of list\r\n"
      ]
    },
    {
      "cell_type": "code",
      "metadata": {
        "id": "C43xUyPJ_dli"
      },
      "source": [
        "import numpy as np"
      ],
      "execution_count": 1,
      "outputs": []
    },
    {
      "cell_type": "code",
      "metadata": {
        "colab": {
          "base_uri": "https://localhost:8080/"
        },
        "id": "P9Z9SLiR_k2k",
        "outputId": "f62dfc40-4f90-4cb0-8039-cba945d3a9fb"
      },
      "source": [
        "np.array(5)"
      ],
      "execution_count": null,
      "outputs": [
        {
          "output_type": "execute_result",
          "data": {
            "text/plain": [
              "array(5)"
            ]
          },
          "metadata": {
            "tags": []
          },
          "execution_count": 2
        }
      ]
    },
    {
      "cell_type": "code",
      "metadata": {
        "id": "Pgu6h8uMIAru"
      },
      "source": [
        "vp=np.array([5,6,7,8])"
      ],
      "execution_count": null,
      "outputs": []
    },
    {
      "cell_type": "code",
      "metadata": {
        "colab": {
          "base_uri": "https://localhost:8080/"
        },
        "id": "HdZrygXqIIsh",
        "outputId": "6b33b8a2-6965-4a67-cd5c-3eb73d88e966"
      },
      "source": [
        "print(vp)"
      ],
      "execution_count": null,
      "outputs": [
        {
          "output_type": "stream",
          "text": [
            "[5 6 7 8]\n"
          ],
          "name": "stdout"
        }
      ]
    },
    {
      "cell_type": "code",
      "metadata": {
        "colab": {
          "base_uri": "https://localhost:8080/"
        },
        "id": "GFS0qO1eIeM2",
        "outputId": "dd477073-6a00-40eb-bfad-916ae4969503"
      },
      "source": [
        "print(vp+1)"
      ],
      "execution_count": null,
      "outputs": [
        {
          "output_type": "stream",
          "text": [
            "[6 7 8 9]\n"
          ],
          "name": "stdout"
        }
      ]
    },
    {
      "cell_type": "code",
      "metadata": {
        "id": "tLX7-mDnIhVl"
      },
      "source": [
        "vp1=[5,6,7,8]"
      ],
      "execution_count": null,
      "outputs": []
    },
    {
      "cell_type": "code",
      "metadata": {
        "colab": {
          "base_uri": "https://localhost:8080/"
        },
        "id": "O8mUnfG-IlJC",
        "outputId": "ea28c5c4-9360-41e1-acd2-dc122d011640"
      },
      "source": [
        "print(vp1[0])"
      ],
      "execution_count": null,
      "outputs": [
        {
          "output_type": "stream",
          "text": [
            "5\n"
          ],
          "name": "stdout"
        }
      ]
    },
    {
      "cell_type": "code",
      "metadata": {
        "id": "zphAPVLDJc-1"
      },
      "source": [
        "vp2=np.array([[1,2,3],[4,5,6],[7,8,9]])"
      ],
      "execution_count": null,
      "outputs": []
    },
    {
      "cell_type": "code",
      "metadata": {
        "colab": {
          "base_uri": "https://localhost:8080/"
        },
        "id": "l8XZwvTcKPNJ",
        "outputId": "e9977320-3296-4dc6-e581-a9ad08cc9a3f"
      },
      "source": [
        "print(vp2)"
      ],
      "execution_count": null,
      "outputs": [
        {
          "output_type": "stream",
          "text": [
            "[[1 2 3]\n",
            " [4 5 6]\n",
            " [7 8 9]]\n"
          ],
          "name": "stdout"
        }
      ]
    },
    {
      "cell_type": "code",
      "metadata": {
        "colab": {
          "base_uri": "https://localhost:8080/"
        },
        "id": "MMPcnMn6KTrt",
        "outputId": "03f208f3-7f0e-4b51-acf5-9a9162ac1c8f"
      },
      "source": [
        "vp2.shape"
      ],
      "execution_count": null,
      "outputs": [
        {
          "output_type": "execute_result",
          "data": {
            "text/plain": [
              "(3, 3)"
            ]
          },
          "metadata": {
            "tags": []
          },
          "execution_count": 18
        }
      ]
    },
    {
      "cell_type": "markdown",
      "metadata": {
        "id": "mXolQUEZdxKH"
      },
      "source": [
        "#Random matrix or value generation using randint"
      ]
    },
    {
      "cell_type": "code",
      "metadata": {
        "id": "CMDkIp6eKwNW"
      },
      "source": [
        "x = np.random.randint(100,size=(1,6,5))"
      ],
      "execution_count": null,
      "outputs": []
    },
    {
      "cell_type": "code",
      "metadata": {
        "colab": {
          "base_uri": "https://localhost:8080/"
        },
        "id": "zkdYRr_eMedp",
        "outputId": "a2f5d4a9-b24f-49c4-ff9f-2f89c1b282e8"
      },
      "source": [
        "print(x)"
      ],
      "execution_count": null,
      "outputs": [
        {
          "output_type": "stream",
          "text": [
            "[[[50 27 14 41 58]\n",
            "  [65 36 10 86 43]\n",
            "  [11  2 51 80 32]\n",
            "  [54  0 38 19 46]\n",
            "  [42 56 60 77 30]\n",
            "  [24  2  3 94 98]]]\n"
          ],
          "name": "stdout"
        }
      ]
    },
    {
      "cell_type": "markdown",
      "metadata": {
        "id": "VUH4HPPEd6Kh"
      },
      "source": [
        "#Reshaping the matrix\r\n",
        "Using reshape or [None, :]"
      ]
    },
    {
      "cell_type": "code",
      "metadata": {
        "colab": {
          "base_uri": "https://localhost:8080/"
        },
        "id": "y60fT0GrNKsH",
        "outputId": "9aab7b57-44d7-4901-cef8-ee1a772dad6c"
      },
      "source": [
        "x.shape"
      ],
      "execution_count": null,
      "outputs": [
        {
          "output_type": "execute_result",
          "data": {
            "text/plain": [
              "(1, 6, 5)"
            ]
          },
          "metadata": {
            "tags": []
          },
          "execution_count": 35
        }
      ]
    },
    {
      "cell_type": "code",
      "metadata": {
        "id": "8fXGJS3uNeUO"
      },
      "source": [
        "s = np.array(5)"
      ],
      "execution_count": null,
      "outputs": []
    },
    {
      "cell_type": "code",
      "metadata": {
        "colab": {
          "base_uri": "https://localhost:8080/"
        },
        "id": "GwLxsLK_Nf4Q",
        "outputId": "b26bb001-55fa-40e1-a0a8-5df84b12937b"
      },
      "source": [
        "s.shape"
      ],
      "execution_count": null,
      "outputs": [
        {
          "output_type": "execute_result",
          "data": {
            "text/plain": [
              "()"
            ]
          },
          "metadata": {
            "tags": []
          },
          "execution_count": 37
        }
      ]
    },
    {
      "cell_type": "code",
      "metadata": {
        "id": "LbbHVY87OFeE"
      },
      "source": [
        "v = np.array([1,2,3,4])"
      ],
      "execution_count": null,
      "outputs": []
    },
    {
      "cell_type": "code",
      "metadata": {
        "colab": {
          "base_uri": "https://localhost:8080/"
        },
        "id": "2hdkIS7EOHPI",
        "outputId": "fdb763a1-7ac1-43c9-d2c4-58556b3a3e63"
      },
      "source": [
        "v.shape"
      ],
      "execution_count": null,
      "outputs": [
        {
          "output_type": "execute_result",
          "data": {
            "text/plain": [
              "(4,)"
            ]
          },
          "metadata": {
            "tags": []
          },
          "execution_count": 39
        }
      ]
    },
    {
      "cell_type": "code",
      "metadata": {
        "id": "ykXxxiofOMFs"
      },
      "source": [
        "x=v.reshape(1,4)"
      ],
      "execution_count": null,
      "outputs": []
    },
    {
      "cell_type": "code",
      "metadata": {
        "id": "Wrb7X24sOTW7"
      },
      "source": [
        "x=v.reshape(4,1)"
      ],
      "execution_count": null,
      "outputs": []
    },
    {
      "cell_type": "code",
      "metadata": {
        "colab": {
          "base_uri": "https://localhost:8080/"
        },
        "id": "i9KjfxwMPutb",
        "outputId": "f83f0bc3-bb6a-4f17-f4ce-9d50f270c8c8"
      },
      "source": [
        "x"
      ],
      "execution_count": null,
      "outputs": [
        {
          "output_type": "execute_result",
          "data": {
            "text/plain": [
              "array([[1],\n",
              "       [2],\n",
              "       [3],\n",
              "       [4]])"
            ]
          },
          "metadata": {
            "tags": []
          },
          "execution_count": 49
        }
      ]
    },
    {
      "cell_type": "code",
      "metadata": {
        "colab": {
          "base_uri": "https://localhost:8080/"
        },
        "id": "9hNKhUlYPvwO",
        "outputId": "b4552b63-4a19-46cf-caaf-1186aa8224fa"
      },
      "source": [
        "x[1][0]"
      ],
      "execution_count": null,
      "outputs": [
        {
          "output_type": "execute_result",
          "data": {
            "text/plain": [
              "2"
            ]
          },
          "metadata": {
            "tags": []
          },
          "execution_count": 51
        }
      ]
    },
    {
      "cell_type": "code",
      "metadata": {
        "id": "qnNVI2VqQSUO"
      },
      "source": [
        "x = v[None, :]"
      ],
      "execution_count": null,
      "outputs": []
    },
    {
      "cell_type": "code",
      "metadata": {
        "colab": {
          "base_uri": "https://localhost:8080/"
        },
        "id": "REKraHLEQaId",
        "outputId": "7105facc-1173-43db-bd1a-b5df9a76bd1a"
      },
      "source": [
        "x.shape"
      ],
      "execution_count": null,
      "outputs": [
        {
          "output_type": "execute_result",
          "data": {
            "text/plain": [
              "(1, 4)"
            ]
          },
          "metadata": {
            "tags": []
          },
          "execution_count": 54
        }
      ]
    },
    {
      "cell_type": "code",
      "metadata": {
        "id": "k8i1T-zFQlSL"
      },
      "source": [
        "x=v[:,None]"
      ],
      "execution_count": null,
      "outputs": []
    },
    {
      "cell_type": "code",
      "metadata": {
        "colab": {
          "base_uri": "https://localhost:8080/"
        },
        "id": "lRiB4I3RQsj7",
        "outputId": "885ac221-3626-49f3-c73c-3e6fe1f9ee6e"
      },
      "source": [
        "x.shape"
      ],
      "execution_count": null,
      "outputs": [
        {
          "output_type": "execute_result",
          "data": {
            "text/plain": [
              "(4, 1)"
            ]
          },
          "metadata": {
            "tags": []
          },
          "execution_count": 58
        }
      ]
    },
    {
      "cell_type": "markdown",
      "metadata": {
        "id": "k1O7DeYidauK"
      },
      "source": [
        "# Matrix multiplication\r\n",
        "using dot and matmul , when the matrix is 2D the results are same for both dot and matmul, but larger dimensions results will be different\r\n",
        "Column of first matrix should be equal to row of 2nd matrix"
      ]
    },
    {
      "cell_type": "code",
      "metadata": {
        "id": "JfkVujQhVdhe"
      },
      "source": [
        "a = np.array([[1,2,3,4],[5,6,7,8]])"
      ],
      "execution_count": null,
      "outputs": []
    },
    {
      "cell_type": "code",
      "metadata": {
        "colab": {
          "base_uri": "https://localhost:8080/"
        },
        "id": "Ao97eF9cV1hq",
        "outputId": "4425e60a-9a73-4d59-e050-2effa539492c"
      },
      "source": [
        "a.shape"
      ],
      "execution_count": null,
      "outputs": [
        {
          "output_type": "execute_result",
          "data": {
            "text/plain": [
              "(2, 4)"
            ]
          },
          "metadata": {
            "tags": []
          },
          "execution_count": 63
        }
      ]
    },
    {
      "cell_type": "code",
      "metadata": {
        "id": "xzSWwvjLVjRD"
      },
      "source": [
        "b = np.array([[1,2,3],[4,5,6],[7,8,9],[10,11,12]])"
      ],
      "execution_count": null,
      "outputs": []
    },
    {
      "cell_type": "code",
      "metadata": {
        "colab": {
          "base_uri": "https://localhost:8080/"
        },
        "id": "VH0nxXPsV5Iy",
        "outputId": "86d27804-5d77-494f-ad36-e9c83f69996e"
      },
      "source": [
        "b.shape"
      ],
      "execution_count": null,
      "outputs": [
        {
          "output_type": "execute_result",
          "data": {
            "text/plain": [
              "(4, 3)"
            ]
          },
          "metadata": {
            "tags": []
          },
          "execution_count": 64
        }
      ]
    },
    {
      "cell_type": "code",
      "metadata": {
        "id": "FjVQDGNqVl6a"
      },
      "source": [
        "c= np.matmul(a, b)"
      ],
      "execution_count": null,
      "outputs": []
    },
    {
      "cell_type": "code",
      "metadata": {
        "colab": {
          "base_uri": "https://localhost:8080/"
        },
        "id": "oOVsYAYjVruF",
        "outputId": "e1f294ce-d2c7-4922-cd15-0779e2532eff"
      },
      "source": [
        "c"
      ],
      "execution_count": null,
      "outputs": [
        {
          "output_type": "execute_result",
          "data": {
            "text/plain": [
              "array([[ 70,  80,  90],\n",
              "       [158, 184, 210]])"
            ]
          },
          "metadata": {
            "tags": []
          },
          "execution_count": 62
        }
      ]
    },
    {
      "cell_type": "code",
      "metadata": {
        "id": "zug6GfHwVsb3"
      },
      "source": [
        "c=np.dot(a,b)"
      ],
      "execution_count": null,
      "outputs": []
    },
    {
      "cell_type": "code",
      "metadata": {
        "colab": {
          "base_uri": "https://localhost:8080/"
        },
        "id": "UcFEJPUGWIWH",
        "outputId": "4d1b84d7-0529-4cb9-ab3f-1be79095b6ca"
      },
      "source": [
        "c"
      ],
      "execution_count": null,
      "outputs": [
        {
          "output_type": "execute_result",
          "data": {
            "text/plain": [
              "array([[ 70,  80,  90],\n",
              "       [158, 184, 210]])"
            ]
          },
          "metadata": {
            "tags": []
          },
          "execution_count": 66
        }
      ]
    },
    {
      "cell_type": "code",
      "metadata": {
        "id": "fHdHeMkJWI7v"
      },
      "source": [
        "a=np.random.randint(100,size=(1,3,2))"
      ],
      "execution_count": null,
      "outputs": []
    },
    {
      "cell_type": "code",
      "metadata": {
        "colab": {
          "base_uri": "https://localhost:8080/"
        },
        "id": "k14WAuNQX5rz",
        "outputId": "d68efec3-10d3-412c-fb95-7e20cf79b9cf"
      },
      "source": [
        "a.shape"
      ],
      "execution_count": null,
      "outputs": [
        {
          "output_type": "execute_result",
          "data": {
            "text/plain": [
              "(1, 3, 2)"
            ]
          },
          "metadata": {
            "tags": []
          },
          "execution_count": 104
        }
      ]
    },
    {
      "cell_type": "code",
      "metadata": {
        "id": "VsSnk8TlXlzU"
      },
      "source": [
        "b=np.random.randint(100,size=(1,2,3))"
      ],
      "execution_count": null,
      "outputs": []
    },
    {
      "cell_type": "code",
      "metadata": {
        "colab": {
          "base_uri": "https://localhost:8080/"
        },
        "id": "eZMExBDUX_Iu",
        "outputId": "c53b4455-b0a1-4297-e047-1ad406fa3794"
      },
      "source": [
        "b.shape"
      ],
      "execution_count": null,
      "outputs": [
        {
          "output_type": "execute_result",
          "data": {
            "text/plain": [
              "(1, 2, 3)"
            ]
          },
          "metadata": {
            "tags": []
          },
          "execution_count": 106
        }
      ]
    },
    {
      "cell_type": "code",
      "metadata": {
        "id": "xRM6i605Xvxe"
      },
      "source": [
        "c=np.dot(a,b)"
      ],
      "execution_count": null,
      "outputs": []
    },
    {
      "cell_type": "code",
      "metadata": {
        "colab": {
          "base_uri": "https://localhost:8080/"
        },
        "id": "ON08z9B1YJS4",
        "outputId": "29a7ac2b-361e-47d7-9a3f-c079689a2ad1"
      },
      "source": [
        "c"
      ],
      "execution_count": null,
      "outputs": [
        {
          "output_type": "execute_result",
          "data": {
            "text/plain": [
              "array([[[[6693, 2944, 3602]],\n",
              "\n",
              "        [[2594,  736, 1524]],\n",
              "\n",
              "        [[6636, 4439, 3091]]]])"
            ]
          },
          "metadata": {
            "tags": []
          },
          "execution_count": 108
        }
      ]
    },
    {
      "cell_type": "code",
      "metadata": {
        "colab": {
          "base_uri": "https://localhost:8080/"
        },
        "id": "ytfqYO4QYrfh",
        "outputId": "34c3c2b5-4ad2-4558-f585-4f15af0c3898"
      },
      "source": [
        "c.shape"
      ],
      "execution_count": null,
      "outputs": [
        {
          "output_type": "execute_result",
          "data": {
            "text/plain": [
              "(1, 3, 1, 3)"
            ]
          },
          "metadata": {
            "tags": []
          },
          "execution_count": 109
        }
      ]
    },
    {
      "cell_type": "code",
      "metadata": {
        "id": "g_SlEQJ_YNhs"
      },
      "source": [
        "c=np.matmul(a,b)"
      ],
      "execution_count": null,
      "outputs": []
    },
    {
      "cell_type": "code",
      "metadata": {
        "colab": {
          "base_uri": "https://localhost:8080/"
        },
        "id": "ykAJVjIIYgfK",
        "outputId": "479127c8-7a46-428e-d87a-61354788c7f5"
      },
      "source": [
        "c.shape"
      ],
      "execution_count": null,
      "outputs": [
        {
          "output_type": "execute_result",
          "data": {
            "text/plain": [
              "(1, 3, 3)"
            ]
          },
          "metadata": {
            "tags": []
          },
          "execution_count": 111
        }
      ]
    },
    {
      "cell_type": "code",
      "metadata": {
        "colab": {
          "base_uri": "https://localhost:8080/"
        },
        "id": "eU6-pzjSYUVe",
        "outputId": "0e51239e-a211-47c2-829a-591206ab3872"
      },
      "source": [
        "c"
      ],
      "execution_count": null,
      "outputs": [
        {
          "output_type": "execute_result",
          "data": {
            "text/plain": [
              "array([[[3534, 3370, 1802],\n",
              "        [5508, 4855, 2239],\n",
              "        [4911, 3822, 1270]]])"
            ]
          },
          "metadata": {
            "tags": []
          },
          "execution_count": 83
        }
      ]
    },
    {
      "cell_type": "markdown",
      "metadata": {
        "id": "Flq6kvX_c328"
      },
      "source": [
        "# Transpose\r\n",
        "Getting the transpose of a matrix is really easy in NumPy. Simply access its T attribute. There is also a transpose() function which returns the same thing, but you’ll rarely see that used anywhere because typing T is so much easier. :)"
      ]
    },
    {
      "cell_type": "code",
      "metadata": {
        "id": "vfI8tvKScyar"
      },
      "source": [
        "m = np.array([[1,2,3,4], [5,6,7,8], [9,10,11,12]])"
      ],
      "execution_count": null,
      "outputs": []
    },
    {
      "cell_type": "code",
      "metadata": {
        "colab": {
          "base_uri": "https://localhost:8080/"
        },
        "id": "Iv-8x6rpdUBw",
        "outputId": "ccc0215b-b3d2-485f-8fec-7e8d8e8d7933"
      },
      "source": [
        "m"
      ],
      "execution_count": null,
      "outputs": [
        {
          "output_type": "execute_result",
          "data": {
            "text/plain": [
              "array([[ 1,  2,  3,  4],\n",
              "       [ 5,  6,  7,  8],\n",
              "       [ 9, 10, 11, 12]])"
            ]
          },
          "metadata": {
            "tags": []
          },
          "execution_count": 115
        }
      ]
    },
    {
      "cell_type": "code",
      "metadata": {
        "colab": {
          "base_uri": "https://localhost:8080/"
        },
        "id": "wMRWoRMgc1H9",
        "outputId": "25be5490-46fd-4ac8-a581-ae2bc5684db7"
      },
      "source": [
        "m.T"
      ],
      "execution_count": null,
      "outputs": [
        {
          "output_type": "execute_result",
          "data": {
            "text/plain": [
              "array([[ 1,  5,  9],\n",
              "       [ 2,  6, 10],\n",
              "       [ 3,  7, 11],\n",
              "       [ 4,  8, 12]])"
            ]
          },
          "metadata": {
            "tags": []
          },
          "execution_count": 113
        }
      ]
    },
    {
      "cell_type": "code",
      "metadata": {
        "id": "-YBz6SGAgeeL"
      },
      "source": [
        "   input_array=[-1,2,7]\r\n"
      ],
      "execution_count": null,
      "outputs": []
    },
    {
      "cell_type": "code",
      "metadata": {
        "id": "ocMcL3GfgpiK"
      },
      "source": [
        "input_array=np.array(input_array)"
      ],
      "execution_count": null,
      "outputs": []
    },
    {
      "cell_type": "code",
      "metadata": {
        "colab": {
          "base_uri": "https://localhost:8080/"
        },
        "id": "irdRCxbQgwS1",
        "outputId": "f5e6d33b-f0fb-400d-ceed-ae6764467c56"
      },
      "source": [
        "input_array"
      ],
      "execution_count": null,
      "outputs": [
        {
          "output_type": "execute_result",
          "data": {
            "text/plain": [
              "array([-1,  2,  7])"
            ]
          },
          "metadata": {
            "tags": []
          },
          "execution_count": 118
        }
      ]
    },
    {
      "cell_type": "code",
      "metadata": {
        "id": "IpOalmX_gzLR"
      },
      "source": [
        "input_array=input_array[None,:]"
      ],
      "execution_count": null,
      "outputs": []
    },
    {
      "cell_type": "code",
      "metadata": {
        "colab": {
          "base_uri": "https://localhost:8080/"
        },
        "id": "Z9c9D49dhU-Z",
        "outputId": "209e9663-f5cf-4058-ce20-96b63236f715"
      },
      "source": [
        "input_array.shape"
      ],
      "execution_count": null,
      "outputs": [
        {
          "output_type": "execute_result",
          "data": {
            "text/plain": [
              "(1, 3)"
            ]
          },
          "metadata": {
            "tags": []
          },
          "execution_count": 123
        }
      ]
    },
    {
      "cell_type": "code",
      "metadata": {
        "colab": {
          "base_uri": "https://localhost:8080/"
        },
        "id": "xVDoYVpIhYHP",
        "outputId": "83997f78-f1ab-4ba7-ef84-4c6a6265981b"
      },
      "source": [
        "input_array"
      ],
      "execution_count": null,
      "outputs": [
        {
          "output_type": "execute_result",
          "data": {
            "text/plain": [
              "array([[-1,  2,  7]])"
            ]
          },
          "metadata": {
            "tags": []
          },
          "execution_count": 124
        }
      ]
    },
    {
      "cell_type": "code",
      "metadata": {
        "colab": {
          "base_uri": "https://localhost:8080/"
        },
        "id": "JAyS2sX_iAvl",
        "outputId": "70e0829d-b936-4b59-e20b-82682d7f5092"
      },
      "source": [
        "input_array.min()"
      ],
      "execution_count": null,
      "outputs": [
        {
          "output_type": "execute_result",
          "data": {
            "text/plain": [
              "-1"
            ]
          },
          "metadata": {
            "tags": []
          },
          "execution_count": 126
        }
      ]
    },
    {
      "cell_type": "code",
      "metadata": {
        "id": "wUE1Oc7ciec5"
      },
      "source": [
        "inputs_minus_min=input_array-input_array.min()"
      ],
      "execution_count": null,
      "outputs": []
    },
    {
      "cell_type": "code",
      "metadata": {
        "colab": {
          "base_uri": "https://localhost:8080/"
        },
        "id": "m0TmfEpIif9v",
        "outputId": "d9ab45ef-6e5e-460c-dbbd-6cbeae714c97"
      },
      "source": [
        "inputs_minus_min"
      ],
      "execution_count": null,
      "outputs": [
        {
          "output_type": "execute_result",
          "data": {
            "text/plain": [
              "array([[0, 3, 8]])"
            ]
          },
          "metadata": {
            "tags": []
          },
          "execution_count": 128
        }
      ]
    },
    {
      "cell_type": "code",
      "metadata": {
        "colab": {
          "base_uri": "https://localhost:8080/"
        },
        "id": "x-H_aocgizq5",
        "outputId": "87a97646-b54d-400d-b6e8-e7441c764258"
      },
      "source": [
        "inputs_minus_min.max()"
      ],
      "execution_count": null,
      "outputs": [
        {
          "output_type": "execute_result",
          "data": {
            "text/plain": [
              "8"
            ]
          },
          "metadata": {
            "tags": []
          },
          "execution_count": 129
        }
      ]
    },
    {
      "cell_type": "code",
      "metadata": {
        "id": "EV-SUBD_i3ET"
      },
      "source": [
        "inputs_div_max=inputs_minus_min/inputs_minus_min.max()"
      ],
      "execution_count": null,
      "outputs": []
    },
    {
      "cell_type": "code",
      "metadata": {
        "colab": {
          "base_uri": "https://localhost:8080/"
        },
        "id": "umEzhg3djGkt",
        "outputId": "c224b93a-8b83-4c0a-f81c-2fa8902f4403"
      },
      "source": [
        "inputs_div_max"
      ],
      "execution_count": null,
      "outputs": [
        {
          "output_type": "execute_result",
          "data": {
            "text/plain": [
              "array([[0.   , 0.375, 1.   ]])"
            ]
          },
          "metadata": {
            "tags": []
          },
          "execution_count": 131
        }
      ]
    },
    {
      "cell_type": "markdown",
      "metadata": {
        "id": "MV_3ghLxmfC5"
      },
      "source": [
        "#find average in numpy"
      ]
    },
    {
      "cell_type": "code",
      "metadata": {
        "id": "kGSKmyVZlq8B"
      },
      "source": [
        "values=[1,3,4]"
      ],
      "execution_count": null,
      "outputs": []
    },
    {
      "cell_type": "code",
      "metadata": {
        "id": "QPommZ8_lv2C"
      },
      "source": [
        "values=np.array(values)"
      ],
      "execution_count": null,
      "outputs": []
    },
    {
      "cell_type": "code",
      "metadata": {
        "colab": {
          "base_uri": "https://localhost:8080/"
        },
        "id": "_lnc0ISzly3r",
        "outputId": "6b5fc861-bd5b-4721-ca5f-84b618f8d508"
      },
      "source": [
        "values.mean()"
      ],
      "execution_count": null,
      "outputs": [
        {
          "output_type": "execute_result",
          "data": {
            "text/plain": [
              "2.6666666666666665"
            ]
          },
          "metadata": {
            "tags": []
          },
          "execution_count": 135
        }
      ]
    },
    {
      "cell_type": "code",
      "metadata": {
        "colab": {
          "base_uri": "https://localhost:8080/"
        },
        "id": "lq33XIYCmVin",
        "outputId": "80520eb6-00d1-4d44-afbb-aadb0f81beff"
      },
      "source": [
        "(1+3+4)/3"
      ],
      "execution_count": null,
      "outputs": [
        {
          "output_type": "execute_result",
          "data": {
            "text/plain": [
              "2.6666666666666665"
            ]
          },
          "metadata": {
            "tags": []
          },
          "execution_count": 138
        }
      ]
    },
    {
      "cell_type": "markdown",
      "metadata": {
        "id": "emJuOqgyPQ6y"
      },
      "source": [
        "#Zip function"
      ]
    },
    {
      "cell_type": "code",
      "metadata": {
        "colab": {
          "base_uri": "https://localhost:8080/"
        },
        "id": "auCI99K8NEYd",
        "outputId": "13a77403-2362-442f-8c4f-c3c89e1eb44e"
      },
      "source": [
        "number_list = [1, 2, 3]\r\n",
        "str_list = ['one', 'twenty', 'three']\r\n",
        "\r\n",
        "# No iterables are passed\r\n",
        "result = zip()\r\n",
        "\r\n",
        "# Converting iterator to list\r\n",
        "result_list = list(result)\r\n",
        "#print(result_list)\r\n",
        "\r\n",
        "# Two iterables are passed\r\n",
        "result = zip(number_list, str_list)\r\n",
        "\r\n",
        "for resultty in zip(number_list,str_list):\r\n",
        "  print(resultty)\r\n",
        "# Converting iterator to set or list\r\n",
        "result_set = list(result)\r\n",
        "print(result_set)"
      ],
      "execution_count": 7,
      "outputs": [
        {
          "output_type": "stream",
          "text": [
            "(1, 'one')\n",
            "(2, 'twenty')\n",
            "(3, 'three')\n",
            "[(1, 'one'), (2, 'twenty'), (3, 'three')]\n"
          ],
          "name": "stdout"
        }
      ]
    },
    {
      "cell_type": "code",
      "metadata": {
        "id": "B1NTxOmTAYVF"
      },
      "source": [
        "x=np.random.randint(100,size=(3,2))"
      ],
      "execution_count": 8,
      "outputs": []
    },
    {
      "cell_type": "code",
      "metadata": {
        "colab": {
          "base_uri": "https://localhost:8080/"
        },
        "id": "huZu39RoA5VI",
        "outputId": "ffa00415-a3b2-4a1e-ccad-afd1ebb36745"
      },
      "source": [
        "x"
      ],
      "execution_count": 9,
      "outputs": [
        {
          "output_type": "execute_result",
          "data": {
            "text/plain": [
              "array([[26, 91],\n",
              "       [65, 60],\n",
              "       [37, 69]])"
            ]
          },
          "metadata": {
            "tags": []
          },
          "execution_count": 9
        }
      ]
    },
    {
      "cell_type": "code",
      "metadata": {
        "colab": {
          "base_uri": "https://localhost:8080/"
        },
        "id": "ExVLtU7pBCoy",
        "outputId": "35921309-1275-494f-95ad-a3deb8e04611"
      },
      "source": [
        "x[0,1]"
      ],
      "execution_count": 14,
      "outputs": [
        {
          "output_type": "execute_result",
          "data": {
            "text/plain": [
              "91"
            ]
          },
          "metadata": {
            "tags": []
          },
          "execution_count": 14
        }
      ]
    },
    {
      "cell_type": "code",
      "metadata": {
        "colab": {
          "base_uri": "https://localhost:8080/"
        },
        "id": "Hl5XPqfwBMW3",
        "outputId": "ce220325-2953-4b2b-a41d-4d0c19f34e98"
      },
      "source": [
        "x[1]"
      ],
      "execution_count": 11,
      "outputs": [
        {
          "output_type": "execute_result",
          "data": {
            "text/plain": [
              "array([65, 60])"
            ]
          },
          "metadata": {
            "tags": []
          },
          "execution_count": 11
        }
      ]
    },
    {
      "cell_type": "code",
      "metadata": {
        "colab": {
          "base_uri": "https://localhost:8080/"
        },
        "id": "BAZUbRBOGMPi",
        "outputId": "fe68680c-625f-463f-9806-6ea5f53c3602"
      },
      "source": [
        "x1=-4\r\n",
        "x2=5\r\n",
        "x=4*x1+5*x2 - 9 \r\n",
        "1/(1+np.exp(-x))"
      ],
      "execution_count": 21,
      "outputs": [
        {
          "output_type": "execute_result",
          "data": {
            "text/plain": [
              "0.5"
            ]
          },
          "metadata": {
            "tags": []
          },
          "execution_count": 21
        }
      ]
    },
    {
      "cell_type": "code",
      "metadata": {
        "id": "Cm8163CGObVb"
      },
      "source": [
        "import numpy as np\r\n",
        "\r\n",
        "# Write a function that takes as input a list of numbers, and returns\r\n",
        "# the list of values given by the softmax function.\r\n",
        "def softmax(L):\r\n",
        "    sum=np.exp(L)\r\n",
        "    P=[]\r\n",
        "    for i in range(len(L)):\r\n",
        "        P.append(np.exp(L[i])/np.sum(sum))\r\n",
        "    return P\r\n",
        "\r\n",
        "\r\n",
        "\r\n",
        "    #otherway\r\n",
        "    import numpy as np\r\n",
        "\r\n",
        "# Write a function that takes as input a list of numbers, and returns\r\n",
        "# the list of values given by the softmax function.\r\n",
        "def softmax(L):\r\n",
        "    sum=np.exp(L)\r\n",
        "    return (np.exp(L)/np.sum(sum))"
      ],
      "execution_count": 23,
      "outputs": []
    },
    {
      "cell_type": "markdown",
      "metadata": {
        "id": "r5Ijjj3qXk_x"
      },
      "source": [
        "#Cross Entropy"
      ]
    },
    {
      "cell_type": "code",
      "metadata": {
        "id": "b5IAJv7DXkuR"
      },
      "source": [
        "import numpy as np\r\n",
        "\r\n",
        "# Write a function that takes as input two lists Y, P,\r\n",
        "# and returns the float corresponding to their cross-entropy.\r\n",
        "def cross_entropy(Y, P):\r\n",
        "   Y=np.array(Y)\r\n",
        "   P=np.array(P)\r\n",
        "   CrossEntropy=-np.sum(Y*np.log(P)+(1-Y)*np.log(1-P))\r\n",
        "   return CrossEntropy"
      ],
      "execution_count": null,
      "outputs": []
    }
  ]
}